{
 "cells": [
  {
   "cell_type": "code",
   "execution_count": null,
   "outputs": [],
   "source": [
    "import sys\n",
    "from PyQt5.QtWidgets import *\n",
    "from PyQt5.QtGui import *\n",
    "from PyQt5.QtCore import *\n",
    "from PyQt5 import QtCore, QtGui, QtWidgets"
   ],
   "metadata": {
    "collapsed": false,
    "pycharm": {
     "is_executing": true
    }
   }
  },
  {
   "cell_type": "code",
   "execution_count": null,
   "outputs": [],
   "source": [
    "class MainWindow(QMainWindow):\n",
    "    def __init__(self):\n",
    "        super().__init__()\n",
    "        self.width = 1280\n",
    "        self.height = 720\n",
    "\n",
    "        # 设置软件图标（可省略）\n",
    "        self.setWindowIcon(QtGui.QIcon(\"zzp.ico\"))\n",
    "        # 设置主界面标题\n",
    "        self.setWindowTitle(\"张子庞2101010340\")\n",
    "        # 设置固定尺寸\n",
    "        self.setFixedSize(self.width, self.height)\n",
    "        # 设置主界面背景色\n",
    "        self.setStyleSheet(\"background-color:rgb(255,255,255)\")\n",
    "\n",
    "        self.init_widget()\n",
    "\n",
    "    def init_widget(self):\n",
    "        # 1. 创建一级菜单栏\n",
    "        # 1.1 创建一级菜单栏的窗口\n",
    "        self.widget_menu = QtWidgets.QWidget(self)  # 注意，传入参数代表一个从属关系，表示创建的QWidget属于self，也就是MainWindow自身\n",
    "        self.widget_menu.setObjectName(\"widget_menu\")\n",
    "        # 设置窗口的左上角x,y,窗口的width和height\n",
    "        self.widget_menu.setGeometry(QtCore.QRect(0, 0, 1280, 50))\n",
    "        self.widget_menu.setStyleSheet(\"QWidget{background-color:rgb(123,223,223);border:2px solid balck;}\")\n",
    "        # 1.2 创建一个水平布局\n",
    "        self.menuLayout = QHBoxLayout(self.widget_menu)\n",
    "        # 1.3 设置水平布局的属性\n",
    "        self.menuLayout.setSpacing(30)  # 设置间距\n",
    "        self.menuLayout.setDirection(0)  # 自左向右的布局\n",
    "        self.menuLayout.addSpacing(30)  # 最左端增加30像素的间距\n",
    "        # 1.4 为菜单栏设置按钮组\n",
    "        self.menuButtonGroup = QButtonGroup()\n",
    "        # 1.5设置文字和字体\n",
    "        menuStr = []\n",
    "        menuStr.append(\"AAA\")\n",
    "        menuStr.append(\"BBB\")\n",
    "        menuStr.append(\"CCC\")\n",
    "        self.font = QFont()  # 设置字样式\n",
    "        self.font.setFamily(\"黑体\")  # 设置字体\n",
    "        self.font.setBold(1)  # 设置为粗体\n",
    "        self.font.setPixelSize(24)  # 字体大小\n",
    "        # 1.5 添加按钮至按钮组\n",
    "        count = 0  # 设置按钮在按钮组内的序号\n",
    "        for menu_str in menuStr:\n",
    "            menuBtn = QPushButton()  # 创建按钮\n",
    "            menuBtn.setStyleSheet(\"QPushButton{color:rgb(0,0,0);border:none;}\"\n",
    "                                  \"QPushButton::checked{color:rgb(58,164,98)}\")\n",
    "            menuBtn.setFont(self.font)  # 加载字体\n",
    "            menuBtn.setText(menu_str)  # 加载文字\n",
    "            menuBtn.setParent(self.widget_menu)  # 属于一级菜单栏的窗口\n",
    "            menuBtn.setCheckable(True)\n",
    "            self.menuLayout.addWidget(menuBtn)  # 一级菜单栏的水平布局中添加该按钮\n",
    "            self.menuButtonGroup.addButton(menuBtn, count)  # 把按钮添加到按钮组中\n",
    "            count += 1\n",
    "        # 1.6 将按钮组内的按钮设置为互斥\n",
    "        self.menuButtonGroup.setExclusive(True)\n",
    "        # 1.7 菜单栏最后再添加弹簧\n",
    "        self.menuLayout.addStretch()\n",
    "        # 1.8 为按钮组内的按钮添加信号槽\n",
    "        self.menuButtonGroup.button(0).clicked.connect(self.slot_AAA)  # 为按钮组中序号为0的按钮建立信号槽，点击就会触发slot_AAA()函数\n",
    "        self.menuButtonGroup.button(1).clicked.connect(self.slot_BBB)  # 为按钮组中序号为1的按钮建立信号槽，点击就会触发slot_BBB()函数\n",
    "        self.menuButtonGroup.button(2).clicked.connect(self.slot_CCC)  # 为按钮组中序号为2的按钮建立信号槽，点击就会触发slot_CCC()函数\n",
    "        self.button = QPushButton('上传图像', self)\n",
    "\n",
    "    def slot_AAA(self):\n",
    "        print(\"AAA clicked !\")\n",
    "\n",
    "    def slot_BBB(self):\n",
    "        print(\"BBB clicked !\")\n",
    "\n",
    "    def slot_CCC(self):\n",
    "        print(\"CCC clicked !\")"
   ],
   "metadata": {
    "collapsed": false,
    "pycharm": {
     "is_executing": true
    }
   }
  },
  {
   "cell_type": "code",
   "execution_count": null,
   "outputs": [],
   "source": [
    "if __name__ == '__main__':\n",
    "    app = QApplication(sys.argv)\n",
    "    w = MainWindow()\n",
    "    w.show()\n",
    "    sys.exit(app.exec())"
   ],
   "metadata": {
    "collapsed": false,
    "pycharm": {
     "is_executing": true
    }
   }
  },
  {
   "cell_type": "code",
   "execution_count": null,
   "outputs": [],
   "source": [],
   "metadata": {
    "collapsed": false,
    "pycharm": {
     "is_executing": true
    }
   }
  }
 ],
 "metadata": {
  "kernelspec": {
   "name": "tf2101010340",
   "language": "python",
   "display_name": "tf40"
  },
  "language_info": {
   "codemirror_mode": {
    "name": "ipython",
    "version": 2
   },
   "file_extension": ".py",
   "mimetype": "text/x-python",
   "name": "python",
   "nbconvert_exporter": "python",
   "pygments_lexer": "ipython2",
   "version": "2.7.6"
  }
 },
 "nbformat": 4,
 "nbformat_minor": 0
}
